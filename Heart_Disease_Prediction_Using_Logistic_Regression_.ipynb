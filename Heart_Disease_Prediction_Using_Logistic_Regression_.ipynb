{
  "nbformat": 4,
  "nbformat_minor": 0,
  "metadata": {
    "colab": {
      "provenance": [],
      "authorship_tag": "ABX9TyPHb/HnJjKVX9iNEeSXZ+xm",
      "include_colab_link": true
    },
    "kernelspec": {
      "name": "python3",
      "display_name": "Python 3"
    },
    "language_info": {
      "name": "python"
    }
  },
  "cells": [
    {
      "cell_type": "markdown",
      "metadata": {
        "id": "view-in-github",
        "colab_type": "text"
      },
      "source": [
        "<a href=\"https://colab.research.google.com/github/MUDITKUMARSINGH25/MACHINE-LEARNING/blob/main/Heart_Disease_Prediction_Using_Logistic_Regression_.ipynb\" target=\"_parent\"><img src=\"https://colab.research.google.com/assets/colab-badge.svg\" alt=\"Open In Colab\"/></a>"
      ]
    },
    {
      "cell_type": "code",
      "source": [
        "import pandas as pd\n",
        "import pylab as pl\n",
        "import numpy as np\n",
        "import scipy.optimize as opt\n",
        "import statsmodels.api as sm\n",
        "from sklearn import preprocessing\n",
        "'exec(% matplotlib inline)'\n",
        "import matplotlib.pyplot as plt\n",
        "import matplotlib.mlab as mlab\n",
        "import seaborn as sn"
      ],
      "metadata": {
        "id": "LEYcfTWurVWa"
      },
      "execution_count": 21,
      "outputs": []
    },
    {
      "cell_type": "code",
      "source": [
        "# dataset\n",
        "disease_df = pd.read_csv(\"/content/framingham.csv\")\n",
        "disease_df.drop(['education'], inplace = True, axis = 1)\n",
        "disease_df.rename(columns ={'male':'Sex_male'}, inplace = True)"
      ],
      "metadata": {
        "id": "_SHQE2FV1VFW"
      },
      "execution_count": 22,
      "outputs": []
    },
    {
      "cell_type": "code",
      "source": [
        "# removing NaN / NULL values\n",
        "disease_df.dropna(axis = 0, inplace = True)\n",
        "print(disease_df.head(), disease_df.shape)\n",
        "print(disease_df.TenYearCHD.value_counts())"
      ],
      "metadata": {
        "id": "RJI4IMAR1xAG"
      },
      "execution_count": null,
      "outputs": []
    },
    {
      "cell_type": "code",
      "source": [
        "# counting no. of patients affected with CHD\n",
        "plt.figure(figsize=(7, 5))\n",
        "sn.countplot(x='TenYearCHD', data=disease_df,\n",
        "             palette=\"BuGn_r\")\n",
        "plt.show()"
      ],
      "metadata": {
        "id": "EUCl2uQZ2Lwj"
      },
      "execution_count": null,
      "outputs": []
    },
    {
      "cell_type": "code",
      "source": [
        "laste = disease_df['TenYearCHD'].plot()\n",
        "plt.show(laste)"
      ],
      "metadata": {
        "id": "1EY105Dk2STn"
      },
      "execution_count": null,
      "outputs": []
    },
    {
      "cell_type": "code",
      "source": [
        "X = np.asarray(disease_df[['age', 'Sex_male', 'cigsPerDay',\n",
        "                           'totChol', 'sysBP', 'glucose']])\n",
        "y = np.asarray(disease_df['TenYearCHD'])\n",
        "\n",
        "# normalization of the dataset\n",
        "X = preprocessing.StandardScaler().fit(X).transform(X)\n",
        "\n",
        "# Train-and-Test -Split\n",
        "from sklearn.model_selection import train_test_split\n",
        "X_train, X_test, y_train, y_test = train_test_split(\n",
        "        X, y, test_size = 0.3, random_state = 4)\n",
        "\n",
        "\n",
        "print ('Train set:', X_train.shape,  y_train.shape)\n",
        "print ('Test set:', X_test.shape,  y_test.shape)"
      ],
      "metadata": {
        "id": "ksvbgevD2Wgg"
      },
      "execution_count": null,
      "outputs": []
    },
    {
      "cell_type": "code",
      "source": [
        "from sklearn.linear_model import LogisticRegression\n",
        "\n",
        "logreg = LogisticRegression()\n",
        "logreg.fit(X_train, y_train)\n",
        "y_pred = logreg.predict(X_test)\n",
        "\n",
        "# Evaluation and accuracy\n",
        "!pip install scikit-learn\n",
        "from sklearn.metrics import jaccard_score\n",
        "\n",
        "print('')\n",
        "print('Accuracy of the model in jaccard score is = ',\n",
        "      jaccard_score(y_test, y_pred))"
      ],
      "metadata": {
        "id": "xbNNNOvd2abV"
      },
      "execution_count": null,
      "outputs": []
    },
    {
      "cell_type": "code",
      "source": [
        "from sklearn.ensemble import RandomForestClassifier\n",
        "\n",
        "rf = RandomForestClassifier()\n",
        "rf.fit(X_train, y_train)\n",
        "\n",
        "score = rf.score(X_test,y_test)*100\n",
        "print('Accuracy of the model is = ', score)"
      ],
      "metadata": {
        "id": "UZDvqUU222p-"
      },
      "execution_count": null,
      "outputs": []
    },
    {
      "cell_type": "code",
      "source": [
        "# Confusion matrix\n",
        "from sklearn.metrics import confusion_matrix, classification_report\n",
        "\n",
        "cm = confusion_matrix(y_test, y_pred)\n",
        "conf_matrix = pd.DataFrame(data = cm,\n",
        "                           columns = ['Predicted:0', 'Predicted:1'],\n",
        "                           index =['Actual:0', 'Actual:1'])\n",
        "\n",
        "plt.figure(figsize = (8, 5))\n",
        "sn.heatmap(conf_matrix, annot = True, fmt = 'd', cmap = \"Greens\")\n",
        "\n",
        "plt.show()\n",
        "\n",
        "print('The details for confusion matrix is =')\n",
        "print (classification_report(y_test, y_pred))\n"
      ],
      "metadata": {
        "id": "tk3FBYxw3OJm"
      },
      "execution_count": null,
      "outputs": []
    }
  ]
}